{
 "cells": [
  {
   "cell_type": "code",
   "execution_count": 1,
   "id": "46883325",
   "metadata": {},
   "outputs": [],
   "source": [
    "import numpy as np\n",
    "import pandas as pd\n",
    "from sklearn.datasets import fetch_openml\n",
    "from sklearn.linear_model import LogisticRegression"
   ]
  },
  {
   "cell_type": "code",
   "execution_count": null,
   "id": "462c0052",
   "metadata": {},
   "outputs": [],
   "source": [
    "data = fetch_openml('mnist_784')"
   ]
  },
  {
   "cell_type": "code",
   "execution_count": null,
   "id": "fbabe399",
   "metadata": {},
   "outputs": [],
   "source": [
    "features = data['data']\n",
    "lables = data['target']"
   ]
  },
  {
   "cell_type": "code",
   "execution_count": null,
   "id": "6c724a9c",
   "metadata": {},
   "outputs": [],
   "source": [
    "print(features.shape)\n",
    "features = np.array(features)\n",
    "lables = np.array(lables)"
   ]
  },
  {
   "cell_type": "code",
   "execution_count": null,
   "id": "002a84e9",
   "metadata": {},
   "outputs": [],
   "source": [
    "features[45]"
   ]
  },
  {
   "cell_type": "code",
   "execution_count": null,
   "id": "5bc7e69c",
   "metadata": {},
   "outputs": [],
   "source": [
    "lables[0]"
   ]
  },
  {
   "cell_type": "code",
   "execution_count": null,
   "id": "532d0018",
   "metadata": {},
   "outputs": [],
   "source": [
    "lables = lables.astype(np.int8)\n",
    "lables[36001]\n"
   ]
  },
  {
   "cell_type": "code",
   "execution_count": null,
   "id": "ecc8869f",
   "metadata": {},
   "outputs": [],
   "source": [
    "lables = (lables==2)"
   ]
  },
  {
   "cell_type": "code",
   "execution_count": null,
   "id": "1500db85",
   "metadata": {},
   "outputs": [],
   "source": [
    "lables[36001]"
   ]
  },
  {
   "cell_type": "code",
   "execution_count": null,
   "id": "b5a1c6e9",
   "metadata": {},
   "outputs": [],
   "source": [
    "single_image = np.array(features[0])\n"
   ]
  },
  {
   "cell_type": "code",
   "execution_count": null,
   "id": "cb5301cd",
   "metadata": {},
   "outputs": [],
   "source": [
    "single_image = single_image.reshape(28, 28)"
   ]
  },
  {
   "cell_type": "code",
   "execution_count": null,
   "id": "37a49482",
   "metadata": {},
   "outputs": [],
   "source": [
    "df = pd.DataFrame(features)\n",
    "df['target'] = lables"
   ]
  },
  {
   "cell_type": "code",
   "execution_count": null,
   "id": "a20c92f7",
   "metadata": {},
   "outputs": [],
   "source": [
    "df = df.iloc[:1000, :]\n",
    "df"
   ]
  },
  {
   "cell_type": "code",
   "execution_count": null,
   "id": "4db78959",
   "metadata": {
    "scrolled": true
   },
   "outputs": [],
   "source": [
    "df.describe()"
   ]
  },
  {
   "cell_type": "code",
   "execution_count": null,
   "id": "d9c46326",
   "metadata": {},
   "outputs": [],
   "source": [
    "from sklearn.model_selection import train_test_split"
   ]
  },
  {
   "cell_type": "code",
   "execution_count": null,
   "id": "ea2bb22e",
   "metadata": {},
   "outputs": [],
   "source": [
    "train_set, test_set = train_test_split(df, test_size=0.2, random_state=42)\n",
    "print(f\"Rows in train set: {len(train_set)}\\nRows in test set: {len(test_set)}\\n\")"
   ]
  },
  {
   "cell_type": "code",
   "execution_count": null,
   "id": "a34c269d",
   "metadata": {},
   "outputs": [],
   "source": [
    "train_set"
   ]
  },
  {
   "cell_type": "code",
   "execution_count": null,
   "id": "e760ce13",
   "metadata": {},
   "outputs": [],
   "source": [
    "test_set"
   ]
  },
  {
   "cell_type": "code",
   "execution_count": null,
   "id": "9e3c2d1d",
   "metadata": {},
   "outputs": [],
   "source": [
    "df['target'].value_counts()"
   ]
  },
  {
   "cell_type": "code",
   "execution_count": null,
   "id": "ede51219",
   "metadata": {},
   "outputs": [],
   "source": [
    "plt.imshow(features[45].reshape(28,28), cmap=matplotlib.cm.binary, interpolation='nearest')"
   ]
  },
  {
   "cell_type": "code",
   "execution_count": null,
   "id": "c8570fa3",
   "metadata": {},
   "outputs": [],
   "source": [
    "train_features = train_set.drop('target', axis=1)\n",
    "f = np.array(train_features)\n",
    "train_lables = train_set['target'].copy()\n",
    "l = np.array(train_lables)\n",
    "\n",
    "test_features = test_set.drop('target', axis=1)\n",
    "ft = np.array(test_features)\n",
    "test_lables = test_set['target'].copy()\n",
    "lt = np.array(test_lables)"
   ]
  },
  {
   "cell_type": "code",
   "execution_count": null,
   "id": "512616d1",
   "metadata": {},
   "outputs": [],
   "source": [
    "from sklearn.preprocessing import StandardScaler\n",
    "from sklearn.pipeline import Pipeline\n",
    "my_pipeline = Pipeline([\n",
    "    ('scaler', StandardScaler()),\n",
    "])\n",
    "\n",
    "df_tr = my_pipeline.fit_transform(np.array(df))"
   ]
  },
  {
   "cell_type": "code",
   "execution_count": null,
   "id": "f576fd73",
   "metadata": {},
   "outputs": [],
   "source": [
    "df_tr"
   ]
  },
  {
   "cell_type": "code",
   "execution_count": null,
   "id": "7cc58ca5",
   "metadata": {},
   "outputs": [],
   "source": [
    "len(df_tr)"
   ]
  },
  {
   "cell_type": "code",
   "execution_count": null,
   "id": "191d4e03",
   "metadata": {},
   "outputs": [],
   "source": [
    "df_tr.shape"
   ]
  },
  {
   "cell_type": "code",
   "execution_count": null,
   "id": "6b310aa0",
   "metadata": {},
   "outputs": [],
   "source": [
    "model = LogisticRegression(tol = 0.1)\n",
    "model.fit(f, l)"
   ]
  },
  {
   "cell_type": "code",
   "execution_count": null,
   "id": "983fa28e",
   "metadata": {},
   "outputs": [],
   "source": [
    "predictions = model.predict([ft[45]])"
   ]
  },
  {
   "cell_type": "code",
   "execution_count": null,
   "id": "46f0dbdb",
   "metadata": {},
   "outputs": [],
   "source": [
    "print(predictions, lt[45])"
   ]
  },
  {
   "cell_type": "code",
   "execution_count": null,
   "id": "d0ce7897",
   "metadata": {},
   "outputs": [],
   "source": []
  }
 ],
 "metadata": {
  "kernelspec": {
   "display_name": "Python 3 (ipykernel)",
   "language": "python",
   "name": "python3"
  },
  "language_info": {
   "codemirror_mode": {
    "name": "ipython",
    "version": 3
   },
   "file_extension": ".py",
   "mimetype": "text/x-python",
   "name": "python",
   "nbconvert_exporter": "python",
   "pygments_lexer": "ipython3",
   "version": "3.10.0"
  }
 },
 "nbformat": 4,
 "nbformat_minor": 5
}
